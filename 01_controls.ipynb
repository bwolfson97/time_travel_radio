{
 "cells": [
  {
   "cell_type": "code",
   "execution_count": null,
   "id": "portuguese-russian",
   "metadata": {},
   "outputs": [],
   "source": [
    "#default_exp controls"
   ]
  },
  {
   "cell_type": "markdown",
   "id": "passing-liberal",
   "metadata": {},
   "source": [
    "# Controls\n",
    "\n",
    "> In this module, I implement the physical controls for MusicPlayer. Borrowed a lot from [Freenove ADC Module](https://github.com/Freenove/Freenove_Ultimate_Starter_Kit_for_Raspberry_Pi/blob/master/Code/Python_Code/07.1.1_ADC/ADC.py)."
   ]
  },
  {
   "cell_type": "code",
   "execution_count": null,
   "id": "forty-place",
   "metadata": {},
   "outputs": [],
   "source": [
    "%load_ext autoreload\n",
    "%autoreload 2"
   ]
  },
  {
   "cell_type": "code",
   "execution_count": null,
   "id": "rotary-warrior",
   "metadata": {},
   "outputs": [],
   "source": [
    "#hide\n",
    "from nbdev.showdoc import *"
   ]
  },
  {
   "cell_type": "code",
   "execution_count": null,
   "id": "capable-document",
   "metadata": {},
   "outputs": [],
   "source": [
    "#export\n",
    "import time\n",
    "import smbus\n",
    "from IPython.display import clear_output\n",
    "from time_travel_radio.core import *\n",
    "import numpy as np"
   ]
  },
  {
   "cell_type": "code",
   "execution_count": null,
   "id": "present-marketing",
   "metadata": {},
   "outputs": [],
   "source": [
    "#export\n",
    "class ADCDevice(object):\n",
    "    def __init__(self):\n",
    "        self.cmd = 0\n",
    "        self.address = 0\n",
    "        self.bus=smbus.SMBus(1)\n",
    "        # print(\"ADCDevice init\")\n",
    "        \n",
    "    def detectI2C(self,addr):\n",
    "        try:\n",
    "            self.bus.write_byte(addr,0)\n",
    "            print(\"Found device in address 0x%x\"%(addr))\n",
    "            return True\n",
    "        except:\n",
    "            print(\"Not found device in address 0x%x\"%(addr))\n",
    "            return False\n",
    "            \n",
    "    def close(self):\n",
    "        self.bus.close()\n",
    "\n",
    "class ADS7830(ADCDevice):\n",
    "    def __init__(self):\n",
    "        super(ADS7830, self).__init__()\n",
    "        self.cmd = 0x84\n",
    "        self.address = 0x4b # 0x4b is the default i2c address for ADS7830 Module.   \n",
    "        \n",
    "    def analogRead(self, chn): # ADS7830 has 8 ADC input pins, chn:0,1,2,3,4,5,6,7\n",
    "        value = self.bus.read_byte_data(self.address, self.cmd|(((chn<<2 | chn>>1)&0x07)<<4))\n",
    "        return value"
   ]
  },
  {
   "cell_type": "code",
   "execution_count": null,
   "id": "exceptional-plaza",
   "metadata": {},
   "outputs": [],
   "source": [
    "#export\n",
    "adc = ADCDevice() # Define an ADCDevice class object\n",
    "\n",
    "def setup():\n",
    "    global adc\n",
    "    if(adc.detectI2C(0x4b)): # Detect the ads7830\n",
    "        adc = ADS7830()\n",
    "    else:\n",
    "        print(\"No correct I2C address found, \\n\"\n",
    "        \"Please use command 'i2cdetect -y 1' to check the I2C address! \\n\"\n",
    "        \"Program Exit. \\n\");\n",
    "        exit(-1)\n",
    "        \n",
    "def loop():\n",
    "    while True:\n",
    "        value = adc.analogRead(0)    # read the ADC value of channel 0\n",
    "        voltage = value / 255.0 * 3.3  # calculate the voltage value\n",
    "        clear_output(wait=True)\n",
    "        print ('ADC Value : %d, Voltage : %.2f'%(value,voltage))\n",
    "        time.sleep(0.1)\n",
    "\n",
    "def destroy():\n",
    "    adc.close()\n",
    "    "
   ]
  },
  {
   "cell_type": "code",
   "execution_count": null,
   "id": "hollow-panama",
   "metadata": {},
   "outputs": [
    {
     "name": "stdout",
     "output_type": "stream",
     "text": [
      "Program is starting ... \n",
      "Not found device in address 0x4b\n",
      "No correct I2C address found, \n",
      "Please use command 'i2cdetect -y 1' to check the I2C address! \n",
      "Program Exit. \n",
      "\n"
     ]
    },
    {
     "ename": "OSError",
     "evalue": "[Errno 9] Bad file descriptor",
     "output_type": "error",
     "traceback": [
      "\u001b[0;31m---------------------------------------------------------------------------\u001b[0m",
      "\u001b[0;31mOSError\u001b[0m                                   Traceback (most recent call last)",
      "\u001b[0;32m<ipython-input-19-7d4e6080260e>\u001b[0m in \u001b[0;36m<module>\u001b[0;34m\u001b[0m\n\u001b[1;32m      4\u001b[0m     \u001b[0;32mtry\u001b[0m\u001b[0;34m:\u001b[0m\u001b[0;34m\u001b[0m\u001b[0;34m\u001b[0m\u001b[0m\n\u001b[1;32m      5\u001b[0m         \u001b[0msetup\u001b[0m\u001b[0;34m(\u001b[0m\u001b[0;34m)\u001b[0m\u001b[0;34m\u001b[0m\u001b[0;34m\u001b[0m\u001b[0m\n\u001b[0;32m----> 6\u001b[0;31m         \u001b[0mloop\u001b[0m\u001b[0;34m(\u001b[0m\u001b[0;34m)\u001b[0m\u001b[0;34m\u001b[0m\u001b[0;34m\u001b[0m\u001b[0m\n\u001b[0m\u001b[1;32m      7\u001b[0m     \u001b[0;32mexcept\u001b[0m \u001b[0mKeyboardInterrupt\u001b[0m\u001b[0;34m:\u001b[0m \u001b[0;31m# Press ctrl-c to end the program.\u001b[0m\u001b[0;34m\u001b[0m\u001b[0;34m\u001b[0m\u001b[0m\n\u001b[1;32m      8\u001b[0m         \u001b[0mdestroy\u001b[0m\u001b[0;34m(\u001b[0m\u001b[0;34m)\u001b[0m\u001b[0;34m\u001b[0m\u001b[0;34m\u001b[0m\u001b[0m\n",
      "\u001b[0;32m<ipython-input-6-e4bfa4bdb4ab>\u001b[0m in \u001b[0;36mloop\u001b[0;34m()\u001b[0m\n\u001b[1;32m     14\u001b[0m \u001b[0;32mdef\u001b[0m \u001b[0mloop\u001b[0m\u001b[0;34m(\u001b[0m\u001b[0;34m)\u001b[0m\u001b[0;34m:\u001b[0m\u001b[0;34m\u001b[0m\u001b[0;34m\u001b[0m\u001b[0m\n\u001b[1;32m     15\u001b[0m     \u001b[0;32mwhile\u001b[0m \u001b[0;32mTrue\u001b[0m\u001b[0;34m:\u001b[0m\u001b[0;34m\u001b[0m\u001b[0;34m\u001b[0m\u001b[0m\n\u001b[0;32m---> 16\u001b[0;31m         \u001b[0mvalue\u001b[0m \u001b[0;34m=\u001b[0m \u001b[0madc\u001b[0m\u001b[0;34m.\u001b[0m\u001b[0manalogRead\u001b[0m\u001b[0;34m(\u001b[0m\u001b[0;36m0\u001b[0m\u001b[0;34m)\u001b[0m    \u001b[0;31m# read the ADC value of channel 0\u001b[0m\u001b[0;34m\u001b[0m\u001b[0;34m\u001b[0m\u001b[0m\n\u001b[0m\u001b[1;32m     17\u001b[0m         \u001b[0mvoltage\u001b[0m \u001b[0;34m=\u001b[0m \u001b[0mvalue\u001b[0m \u001b[0;34m/\u001b[0m \u001b[0;36m255.0\u001b[0m \u001b[0;34m*\u001b[0m \u001b[0;36m3.3\u001b[0m  \u001b[0;31m# calculate the voltage value\u001b[0m\u001b[0;34m\u001b[0m\u001b[0;34m\u001b[0m\u001b[0m\n\u001b[1;32m     18\u001b[0m         \u001b[0mclear_output\u001b[0m\u001b[0;34m(\u001b[0m\u001b[0mwait\u001b[0m\u001b[0;34m=\u001b[0m\u001b[0;32mTrue\u001b[0m\u001b[0;34m)\u001b[0m\u001b[0;34m\u001b[0m\u001b[0;34m\u001b[0m\u001b[0m\n",
      "\u001b[0;32m<ipython-input-5-d411dca61881>\u001b[0m in \u001b[0;36manalogRead\u001b[0;34m(self, chn)\u001b[0m\n\u001b[1;32m     26\u001b[0m \u001b[0;34m\u001b[0m\u001b[0m\n\u001b[1;32m     27\u001b[0m     \u001b[0;32mdef\u001b[0m \u001b[0manalogRead\u001b[0m\u001b[0;34m(\u001b[0m\u001b[0mself\u001b[0m\u001b[0;34m,\u001b[0m \u001b[0mchn\u001b[0m\u001b[0;34m)\u001b[0m\u001b[0;34m:\u001b[0m \u001b[0;31m# ADS7830 has 8 ADC input pins, chn:0,1,2,3,4,5,6,7\u001b[0m\u001b[0;34m\u001b[0m\u001b[0;34m\u001b[0m\u001b[0m\n\u001b[0;32m---> 28\u001b[0;31m         \u001b[0mvalue\u001b[0m \u001b[0;34m=\u001b[0m \u001b[0mself\u001b[0m\u001b[0;34m.\u001b[0m\u001b[0mbus\u001b[0m\u001b[0;34m.\u001b[0m\u001b[0mread_byte_data\u001b[0m\u001b[0;34m(\u001b[0m\u001b[0mself\u001b[0m\u001b[0;34m.\u001b[0m\u001b[0maddress\u001b[0m\u001b[0;34m,\u001b[0m \u001b[0mself\u001b[0m\u001b[0;34m.\u001b[0m\u001b[0mcmd\u001b[0m\u001b[0;34m|\u001b[0m\u001b[0;34m(\u001b[0m\u001b[0;34m(\u001b[0m\u001b[0;34m(\u001b[0m\u001b[0mchn\u001b[0m\u001b[0;34m<<\u001b[0m\u001b[0;36m2\u001b[0m \u001b[0;34m|\u001b[0m \u001b[0mchn\u001b[0m\u001b[0;34m>>\u001b[0m\u001b[0;36m1\u001b[0m\u001b[0;34m)\u001b[0m\u001b[0;34m&\u001b[0m\u001b[0;36m0x07\u001b[0m\u001b[0;34m)\u001b[0m\u001b[0;34m<<\u001b[0m\u001b[0;36m4\u001b[0m\u001b[0;34m)\u001b[0m\u001b[0;34m)\u001b[0m\u001b[0;34m\u001b[0m\u001b[0;34m\u001b[0m\u001b[0m\n\u001b[0m\u001b[1;32m     29\u001b[0m         \u001b[0;32mreturn\u001b[0m \u001b[0mvalue\u001b[0m\u001b[0;34m\u001b[0m\u001b[0;34m\u001b[0m\u001b[0m\n",
      "\u001b[0;31mOSError\u001b[0m: [Errno 9] Bad file descriptor"
     ]
    }
   ],
   "source": [
    "#export\n",
    "if __name__ == '__main__':   # Program entrance\n",
    "    print ('Program is starting ... ')\n",
    "    try:\n",
    "        setup()\n",
    "        loop()\n",
    "    except KeyboardInterrupt: # Press ctrl-c to end the program.\n",
    "        destroy()"
   ]
  },
  {
   "cell_type": "markdown",
   "id": "breathing-multimedia",
   "metadata": {},
   "source": [
    "## Controlling MusicPlayer With Potentiometer"
   ]
  },
  {
   "cell_type": "code",
   "execution_count": null,
   "id": "naked-freight",
   "metadata": {},
   "outputs": [],
   "source": [
    "player = DecadesPlayer(\"Brandon's Raspberry Pi\")"
   ]
  },
  {
   "cell_type": "markdown",
   "id": "vocal-mapping",
   "metadata": {},
   "source": [
    "Find range of values for each playlist:"
   ]
  },
  {
   "cell_type": "code",
   "execution_count": null,
   "id": "included-opening",
   "metadata": {},
   "outputs": [
    {
     "data": {
      "text/plain": [
       "25.5"
      ]
     },
     "execution_count": null,
     "metadata": {},
     "output_type": "execute_result"
    }
   ],
   "source": [
    "bin_size = 255/len(player.playlists); bin_size "
   ]
  },
  {
   "cell_type": "code",
   "execution_count": null,
   "id": "applicable-calgary",
   "metadata": {},
   "outputs": [
    {
     "data": {
      "text/plain": [
       "([25.5, 51.0, 76.5, 102.0, 127.5, 153.0, 178.5, 204.0, 229.5, 255.0], 10)"
      ]
     },
     "execution_count": null,
     "metadata": {},
     "output_type": "execute_result"
    }
   ],
   "source": [
    "bins = []\n",
    "val = bin_size\n",
    "while val <= 255:\n",
    "    bins.append(val)\n",
    "    val += bin_size\n",
    "bins, len(bins)"
   ]
  },
  {
   "cell_type": "code",
   "execution_count": null,
   "id": "middle-gateway",
   "metadata": {},
   "outputs": [
    {
     "data": {
      "text/plain": [
       "(0, 9)"
      ]
     },
     "execution_count": null,
     "metadata": {},
     "output_type": "execute_result"
    }
   ],
   "source": [
    "np.digitize(20, bins), np.digitize(240, bins)"
   ]
  },
  {
   "cell_type": "markdown",
   "id": "confident-angola",
   "metadata": {},
   "source": [
    "**TODO**: Refactor this to make `decades` be a method of `DecadesPlayer` or something."
   ]
  },
  {
   "cell_type": "code",
   "execution_count": null,
   "id": "attempted-pulse",
   "metadata": {},
   "outputs": [],
   "source": [
    "decades = [dec for dec in DecadesPlayer.playlists]"
   ]
  },
  {
   "cell_type": "code",
   "execution_count": null,
   "id": "dangerous-breakdown",
   "metadata": {},
   "outputs": [
    {
     "data": {
      "text/plain": [
       "'1920s'"
      ]
     },
     "execution_count": null,
     "metadata": {},
     "output_type": "execute_result"
    }
   ],
   "source": [
    "decades[0]"
   ]
  },
  {
   "cell_type": "code",
   "execution_count": null,
   "id": "finnish-mother",
   "metadata": {},
   "outputs": [],
   "source": [
    "def read_decade():\n",
    "    \"\"\"Reads value from potentiometer and returns the corresponding decade.\"\"\"\n",
    "    value = adc.analogRead(0)  # B/c potentiometer is connected to channel 0 of ADC\n",
    "    bucket = np.digitize(value, bins)  # Returns indice of bin that value is in\n",
    "    return decades[bucket]"
   ]
  },
  {
   "cell_type": "code",
   "execution_count": null,
   "id": "harmful-collector",
   "metadata": {},
   "outputs": [
    {
     "name": "stdout",
     "output_type": "stream",
     "text": [
      "Found device in address 0x4b\n",
      "Playing the 1930s\n",
      "Playing the 1920s\n",
      "Playing the 1930s\n",
      "Playing the 1940s\n",
      "Playing the 1930s\n",
      "Playing the 1920s\n",
      "Playing the 1930s\n"
     ]
    }
   ],
   "source": [
    "try:\n",
    "    setup()\n",
    "    old_decade = read_decade()\n",
    "    while True:\n",
    "        new_decade = read_decade()\n",
    "        if new_decade != old_decade:\n",
    "            print(f\"Playing the {new_decade}\")\n",
    "            player.play_music(new_decade)\n",
    "            old_decade = new_decade\n",
    "        time.sleep(0.01)\n",
    "except KeyboardInterrupt:\n",
    "    destroy()"
   ]
  },
  {
   "cell_type": "markdown",
   "id": "loved-prince",
   "metadata": {},
   "source": [
    "Calling `destroy` when the user exits is very important to put the GPIO pins back into a safe state."
   ]
  },
  {
   "cell_type": "code",
   "execution_count": null,
   "id": "needed-still",
   "metadata": {},
   "outputs": [
    {
     "name": "stdout",
     "output_type": "stream",
     "text": [
      "Converted 00_core.ipynb.\n",
      "Converted 01_controls.ipynb.\n",
      "Converted index.ipynb.\n"
     ]
    }
   ],
   "source": [
    "from nbdev.export import notebook2script; notebook2script()"
   ]
  },
  {
   "cell_type": "code",
   "execution_count": null,
   "id": "superb-legislature",
   "metadata": {},
   "outputs": [],
   "source": []
  }
 ],
 "metadata": {
  "kernelspec": {
   "display_name": "Python 3",
   "language": "python",
   "name": "python3"
  }
 },
 "nbformat": 4,
 "nbformat_minor": 5
}
