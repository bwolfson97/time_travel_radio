{
 "cells": [
  {
   "cell_type": "code",
   "execution_count": null,
   "id": "portuguese-russian",
   "metadata": {},
   "outputs": [],
   "source": [
    "#default_exp controls"
   ]
  },
  {
   "cell_type": "markdown",
   "id": "passing-liberal",
   "metadata": {},
   "source": [
    "# Controls\n",
    "\n",
    "> In this module, I implement the physical controls for MusicPlayer. Borrowed a lot from [Freenove ADC Module](https://github.com/Freenove/Freenove_Ultimate_Starter_Kit_for_Raspberry_Pi/blob/master/Code/Python_Code/07.1.1_ADC/ADC.py)."
   ]
  },
  {
   "cell_type": "code",
   "execution_count": null,
   "id": "rotary-warrior",
   "metadata": {},
   "outputs": [],
   "source": [
    "#hide\n",
    "from nbdev.showdoc import *"
   ]
  },
  {
   "cell_type": "code",
   "execution_count": null,
   "id": "agricultural-adoption",
   "metadata": {},
   "outputs": [],
   "source": [
    "#export\n",
    "import time\n",
    "import smbus\n",
    "from IPython.display import clear_output"
   ]
  },
  {
   "cell_type": "code",
   "execution_count": null,
   "id": "european-exhaust",
   "metadata": {},
   "outputs": [],
   "source": [
    "#export\n",
    "class ADCDevice(object):\n",
    "    def __init__(self):\n",
    "        self.cmd = 0\n",
    "        self.address = 0\n",
    "        self.bus=smbus.SMBus(1)\n",
    "        # print(\"ADCDevice init\")\n",
    "        \n",
    "    def detectI2C(self,addr):\n",
    "        try:\n",
    "            self.bus.write_byte(addr,0)\n",
    "            print(\"Found device in address 0x%x\"%(addr))\n",
    "            return True\n",
    "        except:\n",
    "            print(\"Not found device in address 0x%x\"%(addr))\n",
    "            return False\n",
    "            \n",
    "    def close(self):\n",
    "        self.bus.close()\n",
    "\n",
    "class ADS7830(ADCDevice):\n",
    "    def __init__(self):\n",
    "        super(ADS7830, self).__init__()\n",
    "        self.cmd = 0x84\n",
    "        self.address = 0x4b # 0x4b is the default i2c address for ADS7830 Module.   \n",
    "        \n",
    "    def analogRead(self, chn): # ADS7830 has 8 ADC input pins, chn:0,1,2,3,4,5,6,7\n",
    "        value = self.bus.read_byte_data(self.address, self.cmd|(((chn<<2 | chn>>1)&0x07)<<4))\n",
    "        return value"
   ]
  },
  {
   "cell_type": "code",
   "execution_count": null,
   "id": "lucky-sport",
   "metadata": {},
   "outputs": [],
   "source": [
    "#export\n",
    "adc = ADCDevice() # Define an ADCDevice class object\n",
    "\n",
    "def setup():\n",
    "    global adc\n",
    "    if(adc.detectI2C(0x4b)): # Detect the ads7830\n",
    "        adc = ADS7830()\n",
    "    else:\n",
    "        print(\"No correct I2C address found, \\n\"\n",
    "        \"Please use command 'i2cdetect -y 1' to check the I2C address! \\n\"\n",
    "        \"Program Exit. \\n\");\n",
    "        exit(-1)\n",
    "        \n",
    "def loop():\n",
    "    while True:\n",
    "        value = adc.analogRead(0)    # read the ADC value of channel 0\n",
    "        voltage = value / 255.0 * 3.3  # calculate the voltage value\n",
    "        clear_output(wait=True)\n",
    "        print ('ADC Value : %d, Voltage : %.2f'%(value,voltage))\n",
    "        time.sleep(0.1)\n",
    "\n",
    "def destroy():\n",
    "    adc.close()\n",
    "    "
   ]
  },
  {
   "cell_type": "code",
   "execution_count": null,
   "id": "hollow-panama",
   "metadata": {},
   "outputs": [
    {
     "name": "stdout",
     "output_type": "stream",
     "text": [
      "ADC Value : 0, Voltage : 0.00\n"
     ]
    }
   ],
   "source": [
    "#export\n",
    "if __name__ == '__main__':   # Program entrance\n",
    "    print ('Program is starting ... ')\n",
    "    try:\n",
    "        setup()\n",
    "        loop()\n",
    "    except KeyboardInterrupt: # Press ctrl-c to end the program.\n",
    "        destroy()"
   ]
  }
 ],
 "metadata": {
  "kernelspec": {
   "display_name": "Python 3",
   "language": "python",
   "name": "python3"
  }
 },
 "nbformat": 4,
 "nbformat_minor": 5
}
