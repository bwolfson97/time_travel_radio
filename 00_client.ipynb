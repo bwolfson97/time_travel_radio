{
 "cells": [
  {
   "cell_type": "code",
   "execution_count": null,
   "metadata": {},
   "outputs": [],
   "source": [
    "# default_exp client"
   ]
  },
  {
   "cell_type": "markdown",
   "metadata": {},
   "source": [
    "# Client\n",
    "\n",
    "> Contains the `DecadesClient` which is responsible for making calls to the [Spotify Web API](https://developer.spotify.com/documentation/web-api/) (through [spotipy](https://spotipy.readthedocs.io/en/2.16.1/#)) to control what music is playing on the radio."
   ]
  },
  {
   "cell_type": "code",
   "execution_count": null,
   "metadata": {},
   "outputs": [],
   "source": [
    "#hide\n",
    "from nbdev.showdoc import *"
   ]
  },
  {
   "cell_type": "code",
   "execution_count": null,
   "metadata": {},
   "outputs": [],
   "source": [
    "#export\n",
    "from fastcore.all import *\n",
    "from typing import *\n",
    "import spotipy\n",
    "from spotipy.oauth2 import SpotifyOAuth"
   ]
  },
  {
   "cell_type": "markdown",
   "metadata": {},
   "source": [
    "## Authorization Code Flow"
   ]
  },
  {
   "cell_type": "markdown",
   "metadata": {},
   "source": [
    "Make sure to set environment variables like so:\n",
    "```\n",
    "export SPOTIPY_CLIENT_ID='your-spotify-client-id'\n",
    "export SPOTIPY_CLIENT_SECRET='your-spotify-client-secret'\n",
    "export SPOTIPY_REDIRECT_URI='your-app-redirect-url'\n",
    "```"
   ]
  },
  {
   "cell_type": "code",
   "execution_count": null,
   "metadata": {},
   "outputs": [],
   "source": [
    "scope = 'user-read-private user-read-playback-state user-modify-playback-state'\n",
    "sp = spotipy.Spotify(auth_manager=SpotifyOAuth(scope=scope))"
   ]
  },
  {
   "cell_type": "markdown",
   "metadata": {},
   "source": [
    "## Searching For Music"
   ]
  },
  {
   "cell_type": "markdown",
   "metadata": {},
   "source": [
    "Search for music! You can change the `type` to search for playlists, tracks, etc. Read about the response [here](https://developer.spotify.com/documentation/web-api/reference/search/search/#writing-a-query---guidelines)."
   ]
  },
  {
   "cell_type": "code",
   "execution_count": null,
   "metadata": {},
   "outputs": [],
   "source": [
    "res = sp.search(\"study jazz\", limit=2, type=\"playlist\")"
   ]
  },
  {
   "cell_type": "code",
   "execution_count": null,
   "metadata": {},
   "outputs": [],
   "source": [
    "def get_first_playlist(query: str) -> str:\n",
    "    search_results = sp.search(query, limit=1, type=\"playlist\")\n",
    "    first_item = search_results[\"playlists\"][\"items\"][0]\n",
    "    return {\n",
    "        \"name\":        first_item[\"name\"],\n",
    "        \"description\": first_item[\"description\"],\n",
    "        \"uri\":         first_item[\"uri\"]\n",
    "    }"
   ]
  },
  {
   "cell_type": "code",
   "execution_count": null,
   "metadata": {},
   "outputs": [
    {
     "data": {
      "text/plain": [
       "{'name': \"1920s: The Roaring 20's🍾\",\n",
       " 'description': 'Welcome to the era of silent movies, prohibition, flappers, gangsters, naughty jazz and dirty blues! Photo: Clara Bow.',\n",
       " 'uri': 'spotify:playlist:7olpTqGzGrYuI76ZBlCLgs'}"
      ]
     },
     "execution_count": null,
     "metadata": {},
     "output_type": "execute_result"
    }
   ],
   "source": [
    "get_first_playlist(\"1920s\")"
   ]
  },
  {
   "cell_type": "markdown",
   "metadata": {},
   "source": [
    "## Playback"
   ]
  },
  {
   "cell_type": "markdown",
   "metadata": {},
   "source": [
    "**Note**: \"spotify:(track):<code>\" uri didn't work when playing songs on Spotify. It DID work when it was `track` or `playlist` though."
   ]
  },
  {
   "cell_type": "markdown",
   "metadata": {},
   "source": [
    "Spotify app must be opened somewhere for it to show up under devices. I am using [raspotify](https://dtcooper.github.io/raspotify/) to play Spotify on the Raspberry Pi. \n",
    "\n",
    "**To play music on Pi after initial turning on**:\n",
    "   - Must first play music on pi through spotify connect"
   ]
  },
  {
   "cell_type": "code",
   "execution_count": null,
   "metadata": {},
   "outputs": [
    {
     "data": {
      "text/plain": [
       "{'devices': [{'id': '55e742107c229068c72ff29dd37f3c6a6342411d',\n",
       "   'is_active': True,\n",
       "   'is_private_session': False,\n",
       "   'is_restricted': False,\n",
       "   'name': \"Brandon's Raspberry Pi\",\n",
       "   'type': 'Speaker',\n",
       "   'volume_percent': 38}]}"
      ]
     },
     "execution_count": null,
     "metadata": {},
     "output_type": "execute_result"
    }
   ],
   "source": [
    "devs = sp.devices(); devs"
   ]
  },
  {
   "cell_type": "code",
   "execution_count": null,
   "metadata": {},
   "outputs": [],
   "source": [
    "#export\n",
    "def get_device_id(devices: Dict, name: str):\n",
    "    if len(devices[\"devices\"]) == 0: raise ValueError(\"No active devices\")\n",
    "    for d in devices[\"devices\"]:\n",
    "        if d[\"name\"] == name: \n",
    "            return d[\"id\"]\n",
    "    raise ValueError(f\"No active device named {name}\")"
   ]
  },
  {
   "cell_type": "code",
   "execution_count": null,
   "metadata": {},
   "outputs": [
    {
     "data": {
      "text/plain": [
       "'55e742107c229068c72ff29dd37f3c6a6342411d'"
      ]
     },
     "execution_count": null,
     "metadata": {},
     "output_type": "execute_result"
    }
   ],
   "source": [
    "get_device_id(sp.devices(), \"Brandon's Raspberry Pi\")"
   ]
  },
  {
   "cell_type": "markdown",
   "metadata": {},
   "source": [
    "Can pass [Spotify URI, URL, or ID](https://spotipy.readthedocs.io/en/2.16.1/?highlight=devices#ids-uris-and-urls) as `context_uri` to play songs/artists/etc. NOTE: **ID** actually didn't seem to work(?)"
   ]
  },
  {
   "cell_type": "code",
   "execution_count": null,
   "metadata": {},
   "outputs": [],
   "source": [
    "sp.start_playback(device_id=\"55e742107c229068c72ff29dd37f3c6a6342411d\",\n",
    "                 context_uri=\"spotify:playlist:37i9dQZF1DX3SiCzCxMDOH\")"
   ]
  },
  {
   "cell_type": "markdown",
   "metadata": {},
   "source": [
    "## Creating MusicPlayer Class"
   ]
  },
  {
   "cell_type": "markdown",
   "metadata": {},
   "source": [
    "Note, not sure if `device_id` changes over time. "
   ]
  },
  {
   "cell_type": "code",
   "execution_count": null,
   "metadata": {},
   "outputs": [
    {
     "data": {
      "text/plain": [
       "{'1920s': 'spotify:playlist:7olpTqGzGrYuI76ZBlCLgs',\n",
       " '1930s': 'spotify:playlist:6yY2tBY8976eFqsOIlBA0b',\n",
       " '1940s': 'spotify:playlist:245g9upOJ2BLTCcKeFyRDf',\n",
       " '1950s': 'spotify:playlist:5TLQjeDvm4igfsJgi6FaF7',\n",
       " '1960s': 'spotify:playlist:37i9dQZF1DXaKIA8E7WcJj',\n",
       " '1970s': 'spotify:playlist:37i9dQZF1DWTJ7xPn4vNaz',\n",
       " '1980s': 'spotify:playlist:37i9dQZF1DX4UtSsGT1Sbe',\n",
       " '1990s': 'spotify:playlist:37i9dQZF1DXbTxeAdrVG2l',\n",
       " '2000s': 'spotify:playlist:2f6tXtN0XesjONxicAzMIw',\n",
       " '2010s': 'spotify:playlist:3FeewjLi5LMzIpV4h35QEz'}"
      ]
     },
     "execution_count": null,
     "metadata": {},
     "output_type": "execute_result"
    }
   ],
   "source": [
    "{f\"{str(year)}s\": get_first_playlist(str(year))[\"uri\"] for year in range(1920, 2020, 10)}"
   ]
  },
  {
   "cell_type": "code",
   "execution_count": null,
   "metadata": {},
   "outputs": [],
   "source": [
    "#export\n",
    "class DecadesClient:\n",
    "    \"\"\"Plays music on Raspberry Pi.\"\"\"\n",
    "    scope = 'user-read-private user-read-playback-state user-modify-playback-state'\n",
    "    playlists = {\n",
    "        '1920s': 'spotify:playlist:7olpTqGzGrYuI76ZBlCLgs',\n",
    "        '1930s': 'spotify:playlist:6yY2tBY8976eFqsOIlBA0b',\n",
    "        '1940s': 'spotify:playlist:245g9upOJ2BLTCcKeFyRDf',\n",
    "        '1950s': 'spotify:playlist:5TLQjeDvm4igfsJgi6FaF7',\n",
    "        '1960s': 'spotify:playlist:37i9dQZF1DXaKIA8E7WcJj',\n",
    "        '1970s': 'spotify:playlist:37i9dQZF1DWTJ7xPn4vNaz',\n",
    "        '1980s': 'spotify:playlist:37i9dQZF1DX4UtSsGT1Sbe',\n",
    "        '1990s': 'spotify:playlist:37i9dQZF1DXbTxeAdrVG2l',\n",
    "        '2000s': 'spotify:playlist:2f6tXtN0XesjONxicAzMIw',\n",
    "        '2010s': 'spotify:playlist:3FeewjLi5LMzIpV4h35QEz'\n",
    "    }\n",
    "\n",
    "    def __init__(self, device_name: str):\n",
    "        self.sp = spotipy.Spotify(auth_manager=SpotifyOAuth(scope=DecadesClient.scope))\n",
    "        self.device = get_device_id(self.sp.devices(), device_name)\n",
    "    \n",
    "    def play_music(self, decade: str):\n",
    "        \"\"\"Plays `decade` on device.\"\"\"\n",
    "        if decade not in self.playlists: raise KeyError(f\"Invalid decade: {decade}\")\n",
    "        self.sp.start_playback(device_id=self.device, context_uri=DecadesClient.playlists[decade])\n",
    "            \n",
    "    def change_volume(self, volume: int): self.sp.volume(volume, device_id=self.device)"
   ]
  },
  {
   "cell_type": "code",
   "execution_count": null,
   "metadata": {},
   "outputs": [],
   "source": [
    "player = DecadesClient(\"Brandon's Raspberry Pi\")"
   ]
  },
  {
   "cell_type": "code",
   "execution_count": null,
   "metadata": {},
   "outputs": [],
   "source": [
    "#export\n",
    "@call_parse\n",
    "def play(\n",
    "    device_name: Param(\"Name of device\", type=str)=\"Brandon's Raspberry Pi\"\n",
    "):\n",
    "    \"\"\"Creates a `DecadesPlayer` and forever loops controls :).\"\"\"\n",
    "    player = DecadesClient(device_name)\n",
    "    \n",
    "    while True:\n",
    "        action = input(\"What to change the (d)ecade or the (v)olume?\")\n",
    "        if action == \"d\": \n",
    "            decade = input(\"Which decade?\")\n",
    "            try: player.play_music(decade)\n",
    "            except KeyError: print(\"Invalid decade\")\n",
    "        elif action == \"v\": \n",
    "            volume = int(input(\"What volume?\"))\n",
    "            player.change_volume(volume)\n",
    "        else: print(\"Invalid choice\")"
   ]
  },
  {
   "cell_type": "code",
   "execution_count": null,
   "metadata": {},
   "outputs": [
    {
     "name": "stdout",
     "output_type": "stream",
     "text": [
      "What to change the (d)ecade or the (v)olume?d\n",
      "Which decade?sdfajl\n",
      "Invalid decade\n"
     ]
    },
    {
     "ename": "KeyboardInterrupt",
     "evalue": "Interrupted by user",
     "output_type": "error",
     "traceback": [
      "\u001b[0;31m---------------------------------------------------------------------------\u001b[0m",
      "\u001b[0;31mKeyboardInterrupt\u001b[0m                         Traceback (most recent call last)",
      "\u001b[0;32m<ipython-input-71-485edcc5ac3c>\u001b[0m in \u001b[0;36m<module>\u001b[0;34m\u001b[0m\n\u001b[0;32m----> 1\u001b[0;31m \u001b[0mplay\u001b[0m\u001b[0;34m(\u001b[0m\u001b[0;34m\"Brandon's Raspberry Pi\"\u001b[0m\u001b[0;34m)\u001b[0m\u001b[0;34m\u001b[0m\u001b[0;34m\u001b[0m\u001b[0m\n\u001b[0m",
      "\u001b[0;32m<ipython-input-70-873e3b375a9b>\u001b[0m in \u001b[0;36mplay\u001b[0;34m(device_name)\u001b[0m\n\u001b[1;32m      8\u001b[0m \u001b[0;34m\u001b[0m\u001b[0m\n\u001b[1;32m      9\u001b[0m     \u001b[0;32mwhile\u001b[0m \u001b[0;32mTrue\u001b[0m\u001b[0;34m:\u001b[0m\u001b[0;34m\u001b[0m\u001b[0;34m\u001b[0m\u001b[0m\n\u001b[0;32m---> 10\u001b[0;31m         \u001b[0maction\u001b[0m \u001b[0;34m=\u001b[0m \u001b[0minput\u001b[0m\u001b[0;34m(\u001b[0m\u001b[0;34m\"What to change the (d)ecade or the (v)olume?\"\u001b[0m\u001b[0;34m)\u001b[0m\u001b[0;34m\u001b[0m\u001b[0;34m\u001b[0m\u001b[0m\n\u001b[0m\u001b[1;32m     11\u001b[0m         \u001b[0;32mif\u001b[0m \u001b[0maction\u001b[0m \u001b[0;34m==\u001b[0m \u001b[0;34m\"d\"\u001b[0m\u001b[0;34m:\u001b[0m\u001b[0;34m\u001b[0m\u001b[0;34m\u001b[0m\u001b[0m\n\u001b[1;32m     12\u001b[0m             \u001b[0mdecade\u001b[0m \u001b[0;34m=\u001b[0m \u001b[0minput\u001b[0m\u001b[0;34m(\u001b[0m\u001b[0;34m\"Which decade?\"\u001b[0m\u001b[0;34m)\u001b[0m\u001b[0;34m\u001b[0m\u001b[0;34m\u001b[0m\u001b[0m\n",
      "\u001b[0;32m~/projects/time_travel_radio/env/lib/python3.9/site-packages/ipykernel/kernelbase.py\u001b[0m in \u001b[0;36mraw_input\u001b[0;34m(self, prompt)\u001b[0m\n\u001b[1;32m    855\u001b[0m                 \u001b[0;34m\"raw_input was called, but this frontend does not support input requests.\"\u001b[0m\u001b[0;34m\u001b[0m\u001b[0;34m\u001b[0m\u001b[0m\n\u001b[1;32m    856\u001b[0m             )\n\u001b[0;32m--> 857\u001b[0;31m         return self._input_request(str(prompt),\n\u001b[0m\u001b[1;32m    858\u001b[0m             \u001b[0mself\u001b[0m\u001b[0;34m.\u001b[0m\u001b[0m_parent_ident\u001b[0m\u001b[0;34m,\u001b[0m\u001b[0;34m\u001b[0m\u001b[0;34m\u001b[0m\u001b[0m\n\u001b[1;32m    859\u001b[0m             \u001b[0mself\u001b[0m\u001b[0;34m.\u001b[0m\u001b[0m_parent_header\u001b[0m\u001b[0;34m,\u001b[0m\u001b[0;34m\u001b[0m\u001b[0;34m\u001b[0m\u001b[0m\n",
      "\u001b[0;32m~/projects/time_travel_radio/env/lib/python3.9/site-packages/ipykernel/kernelbase.py\u001b[0m in \u001b[0;36m_input_request\u001b[0;34m(self, prompt, ident, parent, password)\u001b[0m\n\u001b[1;32m    899\u001b[0m             \u001b[0;32mexcept\u001b[0m \u001b[0mKeyboardInterrupt\u001b[0m\u001b[0;34m:\u001b[0m\u001b[0;34m\u001b[0m\u001b[0;34m\u001b[0m\u001b[0m\n\u001b[1;32m    900\u001b[0m                 \u001b[0;31m# re-raise KeyboardInterrupt, to truncate traceback\u001b[0m\u001b[0;34m\u001b[0m\u001b[0;34m\u001b[0m\u001b[0;34m\u001b[0m\u001b[0m\n\u001b[0;32m--> 901\u001b[0;31m                 \u001b[0;32mraise\u001b[0m \u001b[0mKeyboardInterrupt\u001b[0m\u001b[0;34m(\u001b[0m\u001b[0;34m\"Interrupted by user\"\u001b[0m\u001b[0;34m)\u001b[0m \u001b[0;32mfrom\u001b[0m \u001b[0;32mNone\u001b[0m\u001b[0;34m\u001b[0m\u001b[0;34m\u001b[0m\u001b[0m\n\u001b[0m\u001b[1;32m    902\u001b[0m             \u001b[0;32mexcept\u001b[0m \u001b[0mException\u001b[0m \u001b[0;32mas\u001b[0m \u001b[0me\u001b[0m\u001b[0;34m:\u001b[0m\u001b[0;34m\u001b[0m\u001b[0;34m\u001b[0m\u001b[0m\n\u001b[1;32m    903\u001b[0m                 \u001b[0mself\u001b[0m\u001b[0;34m.\u001b[0m\u001b[0mlog\u001b[0m\u001b[0;34m.\u001b[0m\u001b[0mwarning\u001b[0m\u001b[0;34m(\u001b[0m\u001b[0;34m\"Invalid Message:\"\u001b[0m\u001b[0;34m,\u001b[0m \u001b[0mexc_info\u001b[0m\u001b[0;34m=\u001b[0m\u001b[0;32mTrue\u001b[0m\u001b[0;34m)\u001b[0m\u001b[0;34m\u001b[0m\u001b[0;34m\u001b[0m\u001b[0m\n",
      "\u001b[0;31mKeyboardInterrupt\u001b[0m: Interrupted by user"
     ]
    }
   ],
   "source": [
    "play(\"Brandon's Raspberry Pi\")"
   ]
  },
  {
   "cell_type": "code",
   "execution_count": 1,
   "metadata": {},
   "outputs": [
    {
     "name": "stdout",
     "output_type": "stream",
     "text": [
      "Converted 00_client.ipynb.\n",
      "Converted 01_controls.ipynb.\n",
      "Converted 02_player.ipynb.\n",
      "Converted index.ipynb.\n"
     ]
    }
   ],
   "source": [
    "from nbdev.export import notebook2script; notebook2script()"
   ]
  },
  {
   "cell_type": "code",
   "execution_count": null,
   "metadata": {},
   "outputs": [],
   "source": []
  }
 ],
 "metadata": {
  "kernelspec": {
   "display_name": "Python 3",
   "language": "python",
   "name": "python3"
  },
  "language_info": {
   "codemirror_mode": {
    "name": "ipython",
    "version": 3
   },
   "file_extension": ".py",
   "mimetype": "text/x-python",
   "name": "python",
   "nbconvert_exporter": "python",
   "pygments_lexer": "ipython3",
   "version": "3.8.5"
  },
  "toc": {
   "base_numbering": 1,
   "nav_menu": {},
   "number_sections": true,
   "sideBar": true,
   "skip_h1_title": false,
   "title_cell": "Table of Contents",
   "title_sidebar": "Contents",
   "toc_cell": false,
   "toc_position": {},
   "toc_section_display": true,
   "toc_window_display": true
  },
  "varInspector": {
   "cols": {
    "lenName": 16,
    "lenType": 16,
    "lenVar": 40
   },
   "kernels_config": {
    "python": {
     "delete_cmd_postfix": "",
     "delete_cmd_prefix": "del ",
     "library": "var_list.py",
     "varRefreshCmd": "print(var_dic_list())"
    },
    "r": {
     "delete_cmd_postfix": ") ",
     "delete_cmd_prefix": "rm(",
     "library": "var_list.r",
     "varRefreshCmd": "cat(var_dic_list()) "
    }
   },
   "types_to_exclude": [
    "module",
    "function",
    "builtin_function_or_method",
    "instance",
    "_Feature"
   ],
   "window_display": false
  }
 },
 "nbformat": 4,
 "nbformat_minor": 2
}
