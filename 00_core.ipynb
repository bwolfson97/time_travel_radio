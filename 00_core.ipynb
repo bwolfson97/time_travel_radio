{
 "cells": [
  {
   "cell_type": "code",
   "execution_count": null,
   "metadata": {},
   "outputs": [],
   "source": [
    "# default_exp core"
   ]
  },
  {
   "cell_type": "markdown",
   "metadata": {},
   "source": [
    "# Core\n",
    "\n",
    "> Here I figure out what I am doing."
   ]
  },
  {
   "cell_type": "code",
   "execution_count": null,
   "metadata": {},
   "outputs": [],
   "source": [
    "#hide\n",
    "from nbdev.showdoc import *"
   ]
  },
  {
   "cell_type": "code",
   "execution_count": null,
   "metadata": {},
   "outputs": [],
   "source": [
    "#export\n",
    "from fastcore.all import *\n",
    "from typing import *\n",
    "import spotipy\n",
    "from spotipy.oauth2 import SpotifyOAuth"
   ]
  },
  {
   "cell_type": "markdown",
   "metadata": {},
   "source": [
    "## Authorization Code Flow"
   ]
  },
  {
   "cell_type": "markdown",
   "metadata": {},
   "source": [
    "Make sure to set environment variables like so:\n",
    "```\n",
    "export SPOTIPY_CLIENT_ID='your-spotify-client-id'\n",
    "export SPOTIPY_CLIENT_SECRET='your-spotify-client-secret'\n",
    "export SPOTIPY_REDIRECT_URI='your-app-redirect-url'\n",
    "```"
   ]
  },
  {
   "cell_type": "code",
   "execution_count": null,
   "metadata": {},
   "outputs": [],
   "source": [
    "scope = 'user-read-private user-read-playback-state user-modify-playback-state'\n",
    "sp = spotipy.Spotify(auth_manager=SpotifyOAuth(scope=scope))"
   ]
  },
  {
   "cell_type": "markdown",
   "metadata": {},
   "source": [
    "## Searching For Music"
   ]
  },
  {
   "cell_type": "markdown",
   "metadata": {},
   "source": [
    "Search for music! You can change the `type` to search for playlists, tracks, etc. Read about the response [here](https://developer.spotify.com/documentation/web-api/reference/search/search/#writing-a-query---guidelines)."
   ]
  },
  {
   "cell_type": "code",
   "execution_count": null,
   "metadata": {},
   "outputs": [],
   "source": [
    "res = sp.search(\"study jazz\", limit=2, type=\"playlist\")"
   ]
  },
  {
   "cell_type": "code",
   "execution_count": null,
   "metadata": {},
   "outputs": [],
   "source": [
    "def get_first_playlist(query: str) -> str:\n",
    "    search_results = sp.search(query, limit=1, type=\"playlist\")\n",
    "    first_item = search_results[\"playlists\"][\"items\"][0]\n",
    "    return {\n",
    "        \"name\":        first_item[\"name\"],\n",
    "        \"description\": first_item[\"description\"],\n",
    "        \"uri\":         first_item[\"uri\"]\n",
    "    }"
   ]
  },
  {
   "cell_type": "code",
   "execution_count": null,
   "metadata": {},
   "outputs": [
    {
     "data": {
      "text/plain": [
       "{'name': \"1920s: The Roaring 20's🍾\",\n",
       " 'description': 'Welcome to the era of silent movies, prohibition, flappers, gangsters, naughty jazz and dirty blues! Photo: Clara Bow.',\n",
       " 'uri': 'spotify:playlist:7olpTqGzGrYuI76ZBlCLgs'}"
      ]
     },
     "execution_count": null,
     "metadata": {},
     "output_type": "execute_result"
    }
   ],
   "source": [
    "get_first_playlist(\"1920s\")"
   ]
  },
  {
   "cell_type": "markdown",
   "metadata": {},
   "source": [
    "## Playback"
   ]
  },
  {
   "cell_type": "markdown",
   "metadata": {},
   "source": [
    "**Note**: \"spotify:(track):<code>\" uri didn't work when playing songs on Spotify. It DID work when it was `track` or `playlist` though."
   ]
  },
  {
   "cell_type": "markdown",
   "metadata": {},
   "source": [
    "Spotify app must be opened somewhere for it to show up under devices. I am using [raspotify](https://dtcooper.github.io/raspotify/) to play Spotify on the Raspberry Pi. When raspotify is running on the Raspberry Pi, it will show up as a device below."
   ]
  },
  {
   "cell_type": "code",
   "execution_count": null,
   "metadata": {},
   "outputs": [
    {
     "data": {
      "text/plain": [
       "{'devices': [{'id': '55e742107c229068c72ff29dd37f3c6a6342411d',\n",
       "   'is_active': True,\n",
       "   'is_private_session': False,\n",
       "   'is_restricted': False,\n",
       "   'name': \"Brandon's Raspberry Pi\",\n",
       "   'type': 'Speaker',\n",
       "   'volume_percent': 30}]}"
      ]
     },
     "execution_count": null,
     "metadata": {},
     "output_type": "execute_result"
    }
   ],
   "source": [
    "devs = sp.devices(); devs"
   ]
  },
  {
   "cell_type": "code",
   "execution_count": null,
   "metadata": {},
   "outputs": [],
   "source": [
    "#export\n",
    "def get_device_id(devices: Dict, name: str):\n",
    "    for d in devices[\"devices\"]:\n",
    "        if d[\"name\"] == name: \n",
    "            return d[\"id\"]"
   ]
  },
  {
   "cell_type": "code",
   "execution_count": null,
   "metadata": {},
   "outputs": [
    {
     "data": {
      "text/plain": [
       "'55e742107c229068c72ff29dd37f3c6a6342411d'"
      ]
     },
     "execution_count": null,
     "metadata": {},
     "output_type": "execute_result"
    }
   ],
   "source": [
    "get_device_id(sp.devices(), \"Brandon's Raspberry Pi\")"
   ]
  },
  {
   "cell_type": "markdown",
   "metadata": {},
   "source": [
    "Can pass [Spotify URI, URL, or ID](https://spotipy.readthedocs.io/en/2.16.1/?highlight=devices#ids-uris-and-urls) as `context_uri` to play songs/artists/etc. NOTE: **ID** actually didn't seem to work(?)"
   ]
  },
  {
   "cell_type": "code",
   "execution_count": null,
   "metadata": {},
   "outputs": [],
   "source": [
    "sp.start_playback(device_id=\"55e742107c229068c72ff29dd37f3c6a6342411d\",\n",
    "                 context_uri=\"spotify:playlist:37i9dQZF1DX3SiCzCxMDOH\")"
   ]
  },
  {
   "cell_type": "markdown",
   "metadata": {},
   "source": [
    "## Creating MusicPlayer Class"
   ]
  },
  {
   "cell_type": "markdown",
   "metadata": {},
   "source": [
    "Note, not sure if `device_id` changes over time. "
   ]
  },
  {
   "cell_type": "code",
   "execution_count": null,
   "metadata": {},
   "outputs": [
    {
     "data": {
      "text/plain": [
       "{'1920s': 'spotify:playlist:7olpTqGzGrYuI76ZBlCLgs',\n",
       " '1930s': 'spotify:playlist:6yY2tBY8976eFqsOIlBA0b',\n",
       " '1940s': 'spotify:playlist:245g9upOJ2BLTCcKeFyRDf',\n",
       " '1950s': 'spotify:playlist:5TLQjeDvm4igfsJgi6FaF7',\n",
       " '1960s': 'spotify:playlist:37i9dQZF1DXaKIA8E7WcJj',\n",
       " '1970s': 'spotify:playlist:37i9dQZF1DWTJ7xPn4vNaz',\n",
       " '1980s': 'spotify:playlist:37i9dQZF1DX4UtSsGT1Sbe',\n",
       " '1990s': 'spotify:playlist:37i9dQZF1DXbTxeAdrVG2l',\n",
       " '2000s': 'spotify:playlist:2f6tXtN0XesjONxicAzMIw',\n",
       " '2010s': 'spotify:playlist:3FeewjLi5LMzIpV4h35QEz'}"
      ]
     },
     "execution_count": null,
     "metadata": {},
     "output_type": "execute_result"
    }
   ],
   "source": [
    "{f\"{str(year)}s\": get_first_playlist(str(year))[\"uri\"] for year in range(1920, 2020, 10)}"
   ]
  },
  {
   "cell_type": "code",
   "execution_count": null,
   "metadata": {},
   "outputs": [],
   "source": [
    "#export\n",
    "class MusicPlayer:\n",
    "    \"\"\"Plays music on Raspberry Pi.\"\"\"\n",
    "    scope = 'user-read-private user-read-playback-state user-modify-playback-state'\n",
    "    playlists = {\n",
    "        '1920s': 'spotify:playlist:7olpTqGzGrYuI76ZBlCLgs',\n",
    "        '1930s': 'spotify:playlist:6yY2tBY8976eFqsOIlBA0b',\n",
    "        '1940s': 'spotify:playlist:245g9upOJ2BLTCcKeFyRDf',\n",
    "        '1950s': 'spotify:playlist:5TLQjeDvm4igfsJgi6FaF7',\n",
    "        '1960s': 'spotify:playlist:37i9dQZF1DXaKIA8E7WcJj',\n",
    "        '1970s': 'spotify:playlist:37i9dQZF1DWTJ7xPn4vNaz',\n",
    "        '1980s': 'spotify:playlist:37i9dQZF1DX4UtSsGT1Sbe',\n",
    "        '1990s': 'spotify:playlist:37i9dQZF1DXbTxeAdrVG2l',\n",
    "        '2000s': 'spotify:playlist:2f6tXtN0XesjONxicAzMIw',\n",
    "        '2010s': 'spotify:playlist:3FeewjLi5LMzIpV4h35QEz'\n",
    "    }\n",
    "\n",
    "    def __init__(self, device_name: str):\n",
    "        self.sp = spotipy.Spotify(auth_manager=SpotifyOAuth(scope=MusicPlayer.scope))\n",
    "        self.device = get_device_id(self.sp.devices(), device_name)\n",
    "    \n",
    "    def play_music(self, decade: str):\n",
    "        \"\"\"Plays `decade` on device.\"\"\"\n",
    "        self.sp.start_playback(device_id=self.device, context_uri=MusicPlayer.playlists[decade])"
   ]
  },
  {
   "cell_type": "code",
   "execution_count": null,
   "metadata": {},
   "outputs": [],
   "source": [
    "player = MusicPlayer(\"Brandon's Raspberry Pi\")"
   ]
  },
  {
   "cell_type": "code",
   "execution_count": null,
   "metadata": {},
   "outputs": [],
   "source": [
    "#export\n",
    "@call_parse\n",
    "def play(\n",
    "    device_name: Param(\"Name of device\", type=str)=\"Brandon's Raspberry Pi\"\n",
    "):\n",
    "    \"\"\"Creates a `MusicPlayer` and forever loops controls :).\"\"\"\n",
    "    player = MusicPlayer(device_name)\n",
    "    \n",
    "    while True:\n",
    "        decade = input(\"What decade do you want to listen to? \")\n",
    "        player.play_music(decade)"
   ]
  },
  {
   "cell_type": "code",
   "execution_count": null,
   "metadata": {},
   "outputs": [],
   "source": [
    "# play(\"Brandon's Raspberry Pi\")"
   ]
  },
  {
   "cell_type": "code",
   "execution_count": null,
   "metadata": {},
   "outputs": [
    {
     "name": "stdout",
     "output_type": "stream",
     "text": [
      "Converted 00_core.ipynb.\n",
      "Converted index.ipynb.\n"
     ]
    }
   ],
   "source": [
    "from nbdev.export import notebook2script; notebook2script()"
   ]
  },
  {
   "cell_type": "code",
   "execution_count": null,
   "metadata": {},
   "outputs": [],
   "source": []
  }
 ],
 "metadata": {
  "kernelspec": {
   "display_name": "Python 3",
   "language": "python",
   "name": "python3"
  }
 },
 "nbformat": 4,
 "nbformat_minor": 2
}
