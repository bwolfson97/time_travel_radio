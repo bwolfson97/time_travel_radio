{
 "cells": [
  {
   "cell_type": "code",
   "execution_count": null,
   "metadata": {},
   "outputs": [],
   "source": [
    "# default_exp core"
   ]
  },
  {
   "cell_type": "markdown",
   "metadata": {},
   "source": [
    "# Core\n",
    "\n",
    "> Here I figure out what I am doing."
   ]
  },
  {
   "cell_type": "code",
   "execution_count": null,
   "metadata": {},
   "outputs": [],
   "source": [
    "#hide\n",
    "from nbdev.showdoc import *"
   ]
  },
  {
   "cell_type": "code",
   "execution_count": null,
   "metadata": {},
   "outputs": [],
   "source": [
    "import spotipy\n",
    "import os\n",
    "from spotipy.oauth2 import SpotifyClientCredentials, SpotifyOAuth"
   ]
  },
  {
   "cell_type": "markdown",
   "metadata": {},
   "source": [
    "## Authorization Code Flow"
   ]
  },
  {
   "cell_type": "markdown",
   "metadata": {},
   "source": [
    "Make sure to set environment variables like so:\n",
    "```\n",
    "export SPOTIPY_CLIENT_ID='your-spotify-client-id'\n",
    "export SPOTIPY_CLIENT_SECRET='your-spotify-client-secret'\n",
    "export SPOTIPY_REDIRECT_URI='your-app-redirect-url'\n",
    "```"
   ]
  },
  {
   "cell_type": "code",
   "execution_count": null,
   "metadata": {},
   "outputs": [],
   "source": [
    "scope = 'user-read-private user-read-playback-state user-modify-playback-state'\n",
    "sp = spotipy.Spotify(auth_manager=SpotifyOAuth(scope=scope))"
   ]
  },
  {
   "cell_type": "markdown",
   "metadata": {},
   "source": [
    "Search for music! You can change the `type` to search for playlists, tracks, etc."
   ]
  },
  {
   "cell_type": "code",
   "execution_count": null,
   "metadata": {},
   "outputs": [],
   "source": [
    "res = sp.search(\"1960's top hits\", limit=1, type=\"playlist\")"
   ]
  },
  {
   "cell_type": "code",
   "execution_count": null,
   "metadata": {},
   "outputs": [
    {
     "data": {
      "text/plain": [
       "{'playlists': {'href': 'https://api.spotify.com/v1/search?query=1960%27s+top+hits&type=playlist&offset=0&limit=1',\n",
       "  'items': [{'collaborative': False,\n",
       "    'description': '',\n",
       "    'external_urls': {'spotify': 'https://open.spotify.com/playlist/2rELFgDS4duUaX03Swyj4Z'},\n",
       "    'href': 'https://api.spotify.com/v1/playlists/2rELFgDS4duUaX03Swyj4Z',\n",
       "    'id': '2rELFgDS4duUaX03Swyj4Z',\n",
       "    'images': [{'height': 640,\n",
       "      'url': 'https://mosaic.scdn.co/640/ab67616d0000b2731b3c09cb3ec9f618664f2622ab67616d0000b2731f85ec215e1d73b9ab48b9aeab67616d0000b273222931b7e84ea3e8f5e308d9ab67616d0000b273d5ea1215e77c3f7a7c716370',\n",
       "      'width': 640},\n",
       "     {'height': 300,\n",
       "      'url': 'https://mosaic.scdn.co/300/ab67616d0000b2731b3c09cb3ec9f618664f2622ab67616d0000b2731f85ec215e1d73b9ab48b9aeab67616d0000b273222931b7e84ea3e8f5e308d9ab67616d0000b273d5ea1215e77c3f7a7c716370',\n",
       "      'width': 300},\n",
       "     {'height': 60,\n",
       "      'url': 'https://mosaic.scdn.co/60/ab67616d0000b2731b3c09cb3ec9f618664f2622ab67616d0000b2731f85ec215e1d73b9ab48b9aeab67616d0000b273222931b7e84ea3e8f5e308d9ab67616d0000b273d5ea1215e77c3f7a7c716370',\n",
       "      'width': 60}],\n",
       "    'name': \"1960's top hits\",\n",
       "    'owner': {'display_name': 'Wolfgang Schneider',\n",
       "     'external_urls': {'spotify': 'https://open.spotify.com/user/1241973409'},\n",
       "     'href': 'https://api.spotify.com/v1/users/1241973409',\n",
       "     'id': '1241973409',\n",
       "     'type': 'user',\n",
       "     'uri': 'spotify:user:1241973409'},\n",
       "    'primary_color': None,\n",
       "    'public': None,\n",
       "    'snapshot_id': 'MjIsNzVmODg4NDc2N2MyNWY3M2QyN2ViNjMyYmM4OWZhZWRjODdjYzhmYg==',\n",
       "    'tracks': {'href': 'https://api.spotify.com/v1/playlists/2rELFgDS4duUaX03Swyj4Z/tracks',\n",
       "     'total': 265},\n",
       "    'type': 'playlist',\n",
       "    'uri': 'spotify:playlist:2rELFgDS4duUaX03Swyj4Z'}],\n",
       "  'limit': 1,\n",
       "  'next': 'https://api.spotify.com/v1/search?query=1960%27s+top+hits&type=playlist&offset=1&limit=1',\n",
       "  'offset': 0,\n",
       "  'previous': None,\n",
       "  'total': 60}}"
      ]
     },
     "execution_count": null,
     "metadata": {},
     "output_type": "execute_result"
    }
   ],
   "source": [
    "res"
   ]
  },
  {
   "cell_type": "markdown",
   "metadata": {},
   "source": [
    "**Note**: \"spotify:(track):<code>\" uri didn't work when playing songs on Spotify. It DID work when it was `track` or `playlist` though."
   ]
  },
  {
   "cell_type": "code",
   "execution_count": null,
   "metadata": {},
   "outputs": [
    {
     "data": {
      "text/plain": [
       "{'country': 'US',\n",
       " 'display_name': 'Brandon Wolfson',\n",
       " 'explicit_content': {'filter_enabled': False, 'filter_locked': False},\n",
       " 'external_urls': {'spotify': 'https://open.spotify.com/user/1223293569'},\n",
       " 'followers': {'href': None, 'total': 26},\n",
       " 'href': 'https://api.spotify.com/v1/users/1223293569',\n",
       " 'id': '1223293569',\n",
       " 'images': [{'height': None,\n",
       "   'url': 'https://scontent-ort2-1.xx.fbcdn.net/v/t1.0-1/92824133_2909342865792147_1811747742393827328_n.jpg?_nc_cat=104&ccb=2&_nc_sid=0c64ff&_nc_ohc=yrloxzaC0e8AX_Z6U34&_nc_ht=scontent-ort2-1.xx&oh=9889fed9fa441a3f11c3d561d0261ce4&oe=601DA807',\n",
       "   'width': None}],\n",
       " 'product': 'premium',\n",
       " 'type': 'user',\n",
       " 'uri': 'spotify:user:1223293569'}"
      ]
     },
     "execution_count": null,
     "metadata": {},
     "output_type": "execute_result"
    }
   ],
   "source": [
    "sp.current_user()"
   ]
  },
  {
   "cell_type": "markdown",
   "metadata": {},
   "source": [
    "Spotify app must be opened somewhere for it to show up under devices."
   ]
  },
  {
   "cell_type": "code",
   "execution_count": null,
   "metadata": {},
   "outputs": [
    {
     "data": {
      "text/plain": [
       "{'devices': [{'id': '9e0ca7f49f19e0cc0cf5c3b22b041e714f183fe8',\n",
       "   'is_active': False,\n",
       "   'is_private_session': False,\n",
       "   'is_restricted': False,\n",
       "   'name': 'DESKTOP-BU1Q2B4',\n",
       "   'type': 'Computer',\n",
       "   'volume_percent': 100}]}"
      ]
     },
     "execution_count": null,
     "metadata": {},
     "output_type": "execute_result"
    }
   ],
   "source": [
    "sp.devices()"
   ]
  },
  {
   "cell_type": "code",
   "execution_count": null,
   "metadata": {},
   "outputs": [],
   "source": [
    "sp.start_playback(device_id=\"9e0ca7f49f19e0cc0cf5c3b22b041e714f183fe8\",\n",
    "                 context_uri=\"spotify:playlist:2rELFgDS4duUaX03Swyj4Z\")"
   ]
  }
 ],
 "metadata": {
  "kernelspec": {
   "display_name": "Python 3",
   "language": "python",
   "name": "python3"
  }
 },
 "nbformat": 4,
 "nbformat_minor": 2
}
