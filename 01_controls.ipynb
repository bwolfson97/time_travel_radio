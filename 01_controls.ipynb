{
 "cells": [
  {
   "cell_type": "code",
   "execution_count": null,
   "id": "portuguese-russian",
   "metadata": {},
   "outputs": [],
   "source": [
    "#default_exp controls"
   ]
  },
  {
   "cell_type": "markdown",
   "id": "passing-liberal",
   "metadata": {},
   "source": [
    "# Controls\n",
    "\n",
    "> In this module, I implement the physical controls for `DecadesPlayer`."
   ]
  },
  {
   "cell_type": "code",
   "execution_count": null,
   "id": "forty-place",
   "metadata": {},
   "outputs": [],
   "source": [
    "%load_ext autoreload\n",
    "%autoreload 2"
   ]
  },
  {
   "cell_type": "code",
   "execution_count": null,
   "id": "rotary-warrior",
   "metadata": {},
   "outputs": [],
   "source": [
    "#hide\n",
    "from nbdev.showdoc import *\n",
    "from IPython.display import clear_output"
   ]
  },
  {
   "cell_type": "code",
   "execution_count": null,
   "id": "capable-document",
   "metadata": {},
   "outputs": [],
   "source": [
    "#export\n",
    "import time\n",
    "import smbus\n",
    "from time_travel_radio.core import *\n",
    "import numpy as np\n",
    "from gpiozero import Button\n",
    "import os\n",
    "from typing import *"
   ]
  },
  {
   "cell_type": "markdown",
   "id": "smaller-invalid",
   "metadata": {},
   "source": [
    "## Abstract Classes\n",
    "\n",
    "First we must define some abstract classes so we can use our potentiometer and Analog-Digital Converter (ADC). Largely borrowed from [Freenove ADC Module](https://github.com/Freenove/Freenove_Ultimate_Starter_Kit_for_Raspberry_Pi/blob/master/Code/Python_Code/07.1.1_ADC/ADC.py)."
   ]
  },
  {
   "cell_type": "code",
   "execution_count": null,
   "id": "copyrighted-legislation",
   "metadata": {},
   "outputs": [],
   "source": [
    "#export\n",
    "class ADCDevice:\n",
    "    \"\"\"ADC device that automatically closes itself when destroyed.\"\"\"\n",
    "    def __init__(self):\n",
    "        self.cmd = 0\n",
    "        self.address = 0\n",
    "        self.bus=smbus.SMBus(1)\n",
    "            \n",
    "    def close(self):    self.bus.close()\n",
    "    def __del__(self):  self.close()\n",
    "    def __exit__(self): self.close()"
   ]
  },
  {
   "cell_type": "code",
   "execution_count": null,
   "id": "present-marketing",
   "metadata": {},
   "outputs": [],
   "source": [
    "#export\n",
    "class ADS7830(ADCDevice):\n",
    "    def __init__(self):\n",
    "        super().__init__()\n",
    "        self.cmd = 0x84\n",
    "        self.address = 0x4b # 0x4b is the default i2c address for ADS7830 Module.   \n",
    "        \n",
    "    def analogRead(self, chn): # ADS7830 has 8 ADC input pins, chn:0,1,2,3,4,5,6,7\n",
    "        value = self.bus.read_byte_data(self.address, self.cmd|(((chn<<2 | chn>>1)&0x07)<<4))\n",
    "        return value\n",
    "    \n",
    "    @staticmethod\n",
    "    def value_range(): \n",
    "        \"\"\"Returns range of values device can represent.\"\"\"\n",
    "        return 2**8 - 1  # This is an 8-bit ADC"
   ]
  },
  {
   "cell_type": "markdown",
   "id": "breathing-multimedia",
   "metadata": {},
   "source": [
    "## Controlling MusicPlayer With Potentiometer"
   ]
  },
  {
   "cell_type": "code",
   "execution_count": null,
   "id": "marine-official",
   "metadata": {},
   "outputs": [],
   "source": [
    "#export\n",
    "class DecadesDial(ADS7830):\n",
    "    \"\"\"Potentiometer linked to ADS7830 ADC converts read value into decade.\"\"\"\n",
    "    def __init__(self, decades: List[str]):\n",
    "        super().__init__()\n",
    "        self.decades = decades\n",
    "        self.bins = self._build_bins(len(decades))\n",
    "    \n",
    "    def read_decade(self):\n",
    "        \"\"\"Reads value from potentiometer and returns the corresponding decade.\"\"\"\n",
    "        value = self.analogRead(0)  # B/c potentiometer is connected to channel 0 of ADC\n",
    "        bin_idx = np.digitize(value, self.bins)\n",
    "        return self.decades[bin_idx]\n",
    "    \n",
    "    def _build_bins(self, num_bins: int):\n",
    "        bin_size = self.value_range() / num_bins\n",
    "        bins = [bin_size * i for i in range(1, num_bins)]\n",
    "        return bins"
   ]
  },
  {
   "cell_type": "markdown",
   "id": "modern-costume",
   "metadata": {},
   "source": [
    "Let's test it out now. Make sure to first begin playing music on the Raspberry Pi through the normal Spotify client, or else the `DecadesPlayer` won't be able to find the Raspberry Pi."
   ]
  },
  {
   "cell_type": "code",
   "execution_count": null,
   "id": "naked-freight",
   "metadata": {},
   "outputs": [],
   "source": [
    "player = DecadesPlayer(\"Brandon's Raspberry Pi\")"
   ]
  },
  {
   "cell_type": "code",
   "execution_count": null,
   "id": "harmful-collector",
   "metadata": {},
   "outputs": [],
   "source": [
    "dial = DecadesDial([dec for dec in player.playlists])\n",
    "old_decade = dial.read_decade()\n",
    "try:\n",
    "    while True:\n",
    "        new_decade = dial.read_decade()\n",
    "        if new_decade != old_decade:\n",
    "            print(f\"Playing the {new_decade}\")\n",
    "            player.play_music(new_decade)\n",
    "            old_decade = new_decade\n",
    "        time.sleep(0.01)\n",
    "except KeyboardInterrupt:\n",
    "    pass"
   ]
  },
  {
   "cell_type": "markdown",
   "id": "related-scene",
   "metadata": {},
   "source": [
    "## Power Button\n",
    "\n",
    "Next we'll implement a power button that'll allow us to shutdown the Raspberry Pi safely before unplugging it."
   ]
  },
  {
   "cell_type": "markdown",
   "id": "friendly-highland",
   "metadata": {},
   "source": [
    "Luckily, `gpiozero` has a wonderful `Button` class."
   ]
  },
  {
   "cell_type": "code",
   "execution_count": null,
   "id": "rubber-france",
   "metadata": {},
   "outputs": [],
   "source": [
    "#export\n",
    "class PowerButton(Button):\n",
    "    \"\"\"Creates a power button for the Raspberry Pi.\n",
    "    \n",
    "    Shuts down the Pi after being held down for 5\n",
    "    seconds.\n",
    "    \"\"\"\n",
    "    def __init__(self, pin):\n",
    "        \"\"\"Creates power button from button connected to pin.\"\"\"\n",
    "        super().__init__(pin, hold_time=5)\n",
    "    \n",
    "    @staticmethod\n",
    "    def when_held():\n",
    "        \"\"\"Shuts down Raspberry Pi.\"\"\"\n",
    "        os.system(\"sudo shutdown -h now\")"
   ]
  },
  {
   "cell_type": "code",
   "execution_count": null,
   "id": "needed-still",
   "metadata": {},
   "outputs": [
    {
     "name": "stdout",
     "output_type": "stream",
     "text": [
      "Converted 00_core.ipynb.\n",
      "Converted 01_controls.ipynb.\n",
      "Converted index.ipynb.\n"
     ]
    }
   ],
   "source": [
    "#hide\n",
    "from nbdev.export import notebook2script; notebook2script()"
   ]
  },
  {
   "cell_type": "code",
   "execution_count": null,
   "id": "timely-colony",
   "metadata": {},
   "outputs": [],
   "source": []
  }
 ],
 "metadata": {
  "kernelspec": {
   "display_name": "Python 3",
   "language": "python",
   "name": "python3"
  }
 },
 "nbformat": 4,
 "nbformat_minor": 5
}
